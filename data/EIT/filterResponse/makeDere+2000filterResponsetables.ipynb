{
 "cells": [
  {
   "cell_type": "code",
   "execution_count": 47,
   "metadata": {
    "collapsed": false,
    "jupyter": {
     "outputs_hidden": false
    }
   },
   "outputs": [],
   "source": [
    "import numpy as np\n",
    "import matplotlib.pyplot as plt\n",
    "\n",
    "import matplotlib.style\n",
    "import matplotlib as mpl\n",
    "import matplotlib.colors as colors\n",
    "import matplotlib.cm as cmx\n",
    "mpl.style.use('classic')\n",
    "\n",
    "from astropy.table import Table\n",
    "from astropy import units as u\n",
    "from astropy.constants import G\n",
    "\n",
    "import mesa_helper as mh\n",
    "import os\n",
    "import shutil\n",
    "\n",
    "%matplotlib inline"
   ]
  },
  {
   "cell_type": "code",
   "execution_count": 50,
   "metadata": {},
   "outputs": [
    {
     "name": "stdout",
     "output_type": "stream",
     "text": [
      "[[1.75e+02 1.46e-04 6.78e-05 2.85e-04]\n",
      " [1.80e+02 1.27e-03 5.85e-04 2.51e-03]\n",
      " [1.85e+02 9.69e-03 4.32e-03 1.90e-02]\n",
      " [1.90e+02 1.93e-02 8.63e-03 3.84e-02]\n",
      " [1.95e+02 1.25e-02 5.38e-03 2.46e-02]\n",
      " [2.00e+02 2.54e-03 1.08e-03 5.13e-03]\n",
      " [2.05e+02 9.48e-04 3.89e-04 1.95e-03]\n",
      " [2.10e+02 4.60e-04 1.81e-04 9.52e-04]\n",
      " [2.15e+02 2.39e-04 9.27e-05 5.17e-04]]\n"
     ]
    }
   ],
   "source": [
    "test = np.genfromtxt(\"./dere+2000_table7_195angstrom_effectiveArea.txt\")\n",
    "print(test)"
   ]
  },
  {
   "cell_type": "code",
   "execution_count": 57,
   "metadata": {},
   "outputs": [],
   "source": [
    "col0 = np.genfromtxt(\"./col0_temp.txt\")\n",
    "col1 = np.genfromtxt(\"./col1_temp.txt\")\n",
    "col2 = np.genfromtxt(\"./col2_temp.txt\")\n",
    "col3 = np.genfromtxt(\"./col3_temp.txt\")"
   ]
  },
  {
   "cell_type": "code",
   "execution_count": 58,
   "metadata": {},
   "outputs": [
    {
     "name": "stdout",
     "output_type": "stream",
     "text": [
      "[2.30e-11 5.72e-11 1.40e-10 3.08e-10 2.99e-09 1.30e-05 1.18e-05 1.14e-05\n",
      " 1.09e-05 1.16e-05 1.20e-05 1.30e-05 1.47e-05 1.53e-05 1.80e-05 1.97e-05\n",
      " 2.08e-05 2.46e-05 2.74e-05 2.89e-05 3.41e-05 4.30e-05 5.37e-05 7.11e-05\n",
      " 1.05e-04 1.64e-04 2.32e-04 3.29e-04 5.14e-04 8.54e-04 1.38e-03 1.52e-03\n",
      " 1.12e-03 6.10e-04 2.84e-04 1.09e-04]\n"
     ]
    }
   ],
   "source": [
    "print(col1)"
   ]
  },
  {
   "cell_type": "code",
   "execution_count": 59,
   "metadata": {},
   "outputs": [
    {
     "name": "stdout",
     "output_type": "stream",
     "text": [
      "(36, 4)\n"
     ]
    }
   ],
   "source": [
    "all = np.vstack((col0,col1,col2,col3)).T\n",
    "print(np.shape(all))"
   ]
  },
  {
   "cell_type": "code",
   "execution_count": 60,
   "metadata": {},
   "outputs": [],
   "source": [
    "header=\"wavelength effectivearea_Al+1[cm^2] effectivearea_Al+2[cm^2] effectivearea_clear[cm^2]\""
   ]
  },
  {
   "cell_type": "code",
   "execution_count": 61,
   "metadata": {},
   "outputs": [],
   "source": [
    "np.savetxt(\"./dere+2000_table9_304angstrom_effectiveArea.txt\",all,header=header)"
   ]
  },
  {
   "cell_type": "code",
   "execution_count": null,
   "metadata": {},
   "outputs": [],
   "source": []
  }
 ],
 "metadata": {
  "kernelspec": {
   "display_name": "Python 3 (ipykernel)",
   "language": "python",
   "name": "python3"
  },
  "language_info": {
   "codemirror_mode": {
    "name": "ipython",
    "version": 3
   },
   "file_extension": ".py",
   "mimetype": "text/x-python",
   "name": "python",
   "nbconvert_exporter": "python",
   "pygments_lexer": "ipython3",
   "version": "3.12.2"
  }
 },
 "nbformat": 4,
 "nbformat_minor": 4
}
