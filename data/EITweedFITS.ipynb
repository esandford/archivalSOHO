{
 "cells": [
  {
   "cell_type": "code",
   "execution_count": 2,
   "metadata": {
    "collapsed": false,
    "jupyter": {
     "outputs_hidden": false
    }
   },
   "outputs": [],
   "source": [
    "import numpy as np\n",
    "import os\n",
    "from pathlib import Path\n",
    "from astropy.io import fits"
   ]
  },
  {
   "cell_type": "code",
   "execution_count": 5,
   "metadata": {},
   "outputs": [],
   "source": [
    "#for year in range(1996, 2010):\n",
    "i=0\n",
    "for year in [2011]:  \n",
    "    for m in range(1,13):\n",
    "        month = str(m).zfill(2)\n",
    "        days = sorted([int(f.path[-2:]) for f in os.scandir(\"./EIT/{0}/{1}/\".format(year,month)) if f.is_dir()])\n",
    "\n",
    "        for d in days:\n",
    "            day = str(d).zfill(2)\n",
    "            fitsFiles = os.scandir(\"./EIT/{0}/{1}/{2}/\".format(year,month,day))\n",
    "            \n",
    "            for f in fitsFiles:\n",
    "                #print(f.name)\n",
    "\n",
    "                hdul = fits.open(f.path)\n",
    "                header = hdul[0].header\n",
    "                data = hdul[0].data\n",
    "                sci_obj_ = header['SCI_OBJ'].replace(\"/\",\" \").replace(\" \",\"_\").lower()\n",
    "        \n",
    "                if \"full_sun\" in sci_obj_ or \"dark\" in sci_obj_:\n",
    "                    continue\n",
    "                else:\n",
    "                    p = Path(f.path)\n",
    "                    p.unlink()\n",
    "                    #print(sci_obj_)\n",
    "\n",
    "                if np.shape(data) == (1024,1024) and header['MSBLOCKS'] == 0:\n",
    "                    continue\n",
    "                else:\n",
    "                    print(i)\n",
    "                    i+=1\n",
    "                    #p = Path(f.path)\n",
    "                    #p.unlink()"
   ]
  },
  {
   "cell_type": "code",
   "execution_count": null,
   "metadata": {},
   "outputs": [],
   "source": []
  }
 ],
 "metadata": {
  "kernelspec": {
   "display_name": "Python 2",
   "language": "python",
   "name": "python2"
  },
  "language_info": {
   "codemirror_mode": {
    "name": "ipython",
    "version": 3
   },
   "file_extension": ".py",
   "mimetype": "text/x-python",
   "name": "python",
   "nbconvert_exporter": "python",
   "pygments_lexer": "ipython3",
   "version": "3.10.13"
  }
 },
 "nbformat": 4,
 "nbformat_minor": 4
}
