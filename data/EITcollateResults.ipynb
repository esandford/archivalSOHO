{
 "cells": [
  {
   "cell_type": "code",
   "execution_count": 6,
   "metadata": {},
   "outputs": [],
   "source": [
    "# Code to get all the revised LC points (from rerunning EITfluxsum.py with revised bakeout dates independently for\n",
    "# years 2018, 2019, 2020, 2021, 2022) into the same results file\n",
    "\n",
    "# also revise the EIT pinhole flag to only apply to images which have filter = 'Clear'"
   ]
  },
  {
   "cell_type": "code",
   "execution_count": 33,
   "metadata": {
    "collapsed": false,
    "jupyter": {
     "outputs_hidden": false
    }
   },
   "outputs": [
    {
     "name": "stdout",
     "output_type": "stream",
     "text": [
      "The autoreload extension is already loaded. To reload it, use:\n",
      "  %reload_ext autoreload\n"
     ]
    }
   ],
   "source": [
    "import EITfunc.EITlook as eit\n",
    "\n",
    "import numpy as np\n",
    "import matplotlib.pyplot as plt\n",
    "import matplotlib.colors as clrs\n",
    "import matplotlib.cm as cmx\n",
    "import matplotlib.colorbar as cb\n",
    "import matplotlib.patches as patches\n",
    "from matplotlib.collections import PatchCollection\n",
    "from mpl_toolkits.axes_grid1 import make_axes_locatable\n",
    "from matplotlib import gridspec\n",
    "\n",
    "import matplotlib.style\n",
    "import matplotlib as mpl\n",
    "mpl.style.use('classic')\n",
    "\n",
    "import os\n",
    "\n",
    "from astropy import units as u\n",
    "from astropy.constants import G\n",
    "from astropy.io import ascii, fits\n",
    "from astropy.table import Table\n",
    "from astropy.timeseries import LombScargle\n",
    "import astropy.time\n",
    "from astropy.coordinates import HeliocentricMeanEcliptic, SkyCoord\n",
    "\n",
    "import sunpy.coordinates\n",
    "\n",
    "import scipy.optimize as sciop\n",
    "from scipy.stats import mode, binned_statistic\n",
    "\n",
    "import time\n",
    "import copy\n",
    "\n",
    "%matplotlib inline\n",
    "%load_ext autoreload\n",
    "%autoreload 2"
   ]
  },
  {
   "cell_type": "code",
   "execution_count": 10,
   "metadata": {
    "scrolled": true
   },
   "outputs": [
    {
     "name": "stdout",
     "output_type": "stream",
     "text": [
      "(91883,)\n",
      "     DATE-BEG           DATE-AVG      XPOSURE CMDXPOS SHUTCLS FILTER WAVELNTH ... SC_X0 SC_Y0 SC_ROLL    HAEX_OBS       HAEY_OBS      HAEZ_OBS \n",
      "------------------ ------------------ ------- ------- ------- ------ -------- ... ----- ----- ------- -------------- -------------- -----------\n",
      "2450098.5366403703  2450098.536677118    6.35    10.0     2.1  Al_+1      171 ...   0.0   0.0    0.01 -64908808000.0 130562576000.0 -77407740.0\n",
      " 2450098.509462373 2450098.5129467477   602.1   600.0     2.1 Al_sup      284 ...   0.0   0.0    0.01 -64908808000.0 130562576000.0 -77407740.0\n",
      "  2450099.07985044  2450099.079920463    12.1    10.0     2.1  Al_+1      171 ...   0.0   0.0   -0.04 -64908808000.0 130562576000.0 -77407740.0\n",
      "2450098.5201983913  2450098.520678391  82.944    90.0     2.1 Al_sup      195 ...   0.0   0.0    0.01 -64908808000.0 130562576000.0 -77407740.0\n",
      " 2450102.401938831 2450102.4025296876   102.1   100.0     2.1  Al_+1      304 ...   0.0   0.0   -0.01 -71817840000.0 126939368000.0 -67100020.0\n",
      "2450102.2426729975 2450102.2427430553    12.1    10.0     2.1  Al_+1      171 ...   0.0   0.0   -0.01 -71817840000.0 126939368000.0 -67100020.0\n",
      " 2450102.278504838  2450102.278574815    12.1    10.0     2.1  Al_+1      171 ...   0.0   0.0   -0.01 -71817840000.0 126939368000.0 -67100020.0\n",
      "2450103.1874925694  2450103.187562593    12.1    10.0     2.1  Al_+1      171 ...   0.0   0.0     0.0 -74076120000.0 125652736000.0 -63552880.0\n",
      "2450103.2389932405  2450103.240741505   302.1   300.0     2.1  Al_+1      284 ...   0.0   0.0     0.0 -74076120000.0 125652736000.0 -63552880.0\n",
      "2450103.2610902544 2450103.2612181483    22.1    20.0     2.1  Al_+1      195 ...   0.0   0.0     0.0 -74076120000.0 125652736000.0 -63552880.0\n",
      "2450103.2878793404 2450103.2884701965   102.1   100.0     2.1  Al_+1      304 ...   0.0   0.0     0.0 -74076120000.0 125652736000.0 -63552880.0\n",
      " 2450103.212478449  2450103.212548426    12.1    10.0     2.1  Al_+1      171 ...   0.0   0.0     0.0 -74076120000.0 125652736000.0 -63552880.0\n",
      "2450104.3255209955 2450104.3255910184    12.1    10.0     2.1  Al_+1      171 ...   0.0   0.0    0.01 -76310864000.0 124327352000.0 -59950840.0\n",
      "2450104.3374768863  2450104.337604722    22.1    20.0     2.1  Al_+1      195 ...   0.0   0.0    0.01 -76310864000.0 124327352000.0 -59950840.0\n",
      "               ...                ...     ...     ...     ...    ...      ... ...   ...   ...     ...            ...            ...         ...\n",
      "2459943.5406020023 2459943.5406772224  12.999    10.0   2.999  Al_+1      171 ...   0.0   0.0    6.72 -20170990000.0 144480304000.0  88881080.0\n",
      "2459944.0499038887 2459944.0499766665  12.577    10.0   2.577  Al_+1      195 ...   0.0   0.0    6.69 -21459886000.0 144292496000.0  88598910.0\n",
      " 2459944.044638472  2459944.045347928 122.595   120.0   2.595  Al_+1      284 ...   0.0   0.0     6.7 -21459886000.0 144292496000.0  88598910.0\n",
      "2459943.5539869675 2459943.5541755785  32.593    30.0   2.593  Al_+1      304 ...   0.0   0.0    6.72 -20206324000.0 144475312000.0  88873970.0\n",
      "2459944.0405713427  2459944.040644259  12.598    10.0   2.598  Al_+1      171 ...   0.0   0.0     6.7 -21442242000.0 144295152000.0  88603090.0\n",
      "2459944.0539360186 2459944.0541246296  32.596    30.0   2.596  Al_+1      304 ...   0.0   0.0    6.69 -21477532000.0 144289840000.0  88594730.0\n",
      " 2459943.549947662 2459943.5500205555  12.597    10.0   2.597  Al_+1      195 ...   0.0   0.0    6.72 -20188656000.0 144477808000.0  88877520.0\n",
      " 2459945.051343287  2459945.051416204  12.597    10.0   2.597  Al_+1      195 ...   0.0   0.0 -173.36 -23997426000.0 143888768000.0  87906600.0\n",
      "2459945.0554369907 2459945.0556337037  33.992    30.0   3.992  Al_+1      304 ...   0.0   0.0 -173.36 -24015024000.0 143885808000.0  87901160.0\n",
      "2459944.5416033333 2459944.5416762154  12.595    10.0   2.595  Al_+1      171 ...   0.0   0.0 -173.33 -22711884000.0 144098944000.0  88279990.0\n",
      "2459945.0418584724  2459945.041931343  12.595    10.0   2.595  Al_+1      171 ...   0.0   0.0 -173.35 -23979830000.0 143891728000.0  87912020.0\n",
      "2459945.0459949537 2459945.0467044096 122.594   120.0   2.594  Al_+1      284 ...   0.0   0.0 -173.35 -23997426000.0 143888768000.0  87906600.0\n",
      "2459944.5510996296 2459944.5511724884  12.591    10.0   2.591  Al_+1      195 ...   0.0   0.0 -173.33 -22729508000.0 144096144000.0  88275190.0\n",
      "2459944.5551944096  2459944.555384051  32.771    30.0   2.771  Al_+1      304 ...   0.0   0.0 -173.33 -22747128000.0 144093344000.0  88270380.0\n",
      "Length = 91883 rows\n",
      "['DATE-BEG', 'DATE-AVG', 'XPOSURE', 'CMDXPOS', 'SHUTCLS', 'FILTER', 'WAVELNTH', 'OBJECT', 'SCI_OBJ', 'OBS_PROG', 'CMP_NO', 'UCD', 'EXPMODE', 'LYNESYNC', 'ROUTPORT', 'NLEBPROC', 'LEBPROC1', 'LEBPROC2', 'LEBPROC3', 'WCSNAME', 'CTYPE1', 'CTYPE2', 'CUNIT1', 'CUNIT2', 'PC1_1', 'PC1_2', 'PC2_1', 'PC2_2', 'CDELT1', 'CDELT2', 'CRVAL1', 'CRVAL2', 'CRPIX1', 'CRPIX2', 'CROTA', 'CFTEMP', 'CCDTEMP', 'SOLAR_B0', 'RSUN_ARC', 'RSUN_OBS', 'RSUN_REF', 'CAR_ROT', 'DSUN_OBS', 'SC_X0', 'SC_Y0', 'SC_ROLL', 'HAEX_OBS', 'HAEY_OBS', 'HAEZ_OBS']\n",
      "     DATE-BEG           DATE-AVG      XPOSURE CMDXPOS SHUTCLS FILTER WAVELNTH ... SC_X0 SC_Y0 SC_ROLL    HAEX_OBS       HAEY_OBS      HAEZ_OBS \n",
      "------------------ ------------------ ------- ------- ------- ------ -------- ... ----- ----- ------- -------------- -------------- -----------\n",
      " 2450098.509462373 2450098.5129467477   602.1   600.0     2.1 Al_sup      284 ...   0.0   0.0    0.01 -64908808000.0 130562576000.0 -77407740.0\n",
      "2450098.5201983913  2450098.520678391  82.944    90.0     2.1 Al_sup      195 ...   0.0   0.0    0.01 -64908808000.0 130562576000.0 -77407740.0\n",
      "2450098.5366403703  2450098.536677118    6.35    10.0     2.1  Al_+1      171 ...   0.0   0.0    0.01 -64908808000.0 130562576000.0 -77407740.0\n",
      "  2450099.07985044  2450099.079920463    12.1    10.0     2.1  Al_+1      171 ...   0.0   0.0   -0.04 -64908808000.0 130562576000.0 -77407740.0\n",
      "2450102.2426729975 2450102.2427430553    12.1    10.0     2.1  Al_+1      171 ...   0.0   0.0   -0.01 -71817840000.0 126939368000.0 -67100020.0\n",
      " 2450102.278504838  2450102.278574815    12.1    10.0     2.1  Al_+1      171 ...   0.0   0.0   -0.01 -71817840000.0 126939368000.0 -67100020.0\n",
      " 2450102.401938831 2450102.4025296876   102.1   100.0     2.1  Al_+1      304 ...   0.0   0.0   -0.01 -71817840000.0 126939368000.0 -67100020.0\n",
      "2450103.1874925694  2450103.187562593    12.1    10.0     2.1  Al_+1      171 ...   0.0   0.0     0.0 -74076120000.0 125652736000.0 -63552880.0\n",
      " 2450103.212478449  2450103.212548426    12.1    10.0     2.1  Al_+1      171 ...   0.0   0.0     0.0 -74076120000.0 125652736000.0 -63552880.0\n",
      "2450103.2389932405  2450103.240741505   302.1   300.0     2.1  Al_+1      284 ...   0.0   0.0     0.0 -74076120000.0 125652736000.0 -63552880.0\n",
      "2450103.2610902544 2450103.2612181483    22.1    20.0     2.1  Al_+1      195 ...   0.0   0.0     0.0 -74076120000.0 125652736000.0 -63552880.0\n",
      "2450103.2878793404 2450103.2884701965   102.1   100.0     2.1  Al_+1      304 ...   0.0   0.0     0.0 -74076120000.0 125652736000.0 -63552880.0\n",
      "2450104.3255209955 2450104.3255910184    12.1    10.0     2.1  Al_+1      171 ...   0.0   0.0    0.01 -76310864000.0 124327352000.0 -59950840.0\n",
      "2450104.3308392246  2450104.331430081   102.1   100.0     2.1  Al_+1      304 ...   0.0   0.0    0.01 -76310864000.0 124327352000.0 -59950840.0\n",
      "               ...                ...     ...     ...     ...    ...      ... ...   ...   ...     ...            ...            ...         ...\n",
      "  2459943.54466684 2459943.5453797686 123.194   120.0   3.194  Al_+1      284 ...   0.0   0.0    6.72 -20188656000.0 144477808000.0  88877520.0\n",
      " 2459943.549947662 2459943.5500205555  12.597    10.0   2.597  Al_+1      195 ...   0.0   0.0    6.72 -20188656000.0 144477808000.0  88877520.0\n",
      "2459943.5539869675 2459943.5541755785  32.593    30.0   2.593  Al_+1      304 ...   0.0   0.0    6.72 -20206324000.0 144475312000.0  88873970.0\n",
      "2459944.0405713427  2459944.040644259  12.598    10.0   2.598  Al_+1      171 ...   0.0   0.0     6.7 -21442242000.0 144295152000.0  88603090.0\n",
      " 2459944.044638472  2459944.045347928 122.595   120.0   2.595  Al_+1      284 ...   0.0   0.0     6.7 -21459886000.0 144292496000.0  88598910.0\n",
      "2459944.0499038887 2459944.0499766665  12.577    10.0   2.577  Al_+1      195 ...   0.0   0.0    6.69 -21459886000.0 144292496000.0  88598910.0\n",
      "2459944.0539360186 2459944.0541246296  32.596    30.0   2.596  Al_+1      304 ...   0.0   0.0    6.69 -21477532000.0 144289840000.0  88594730.0\n",
      "2459944.5416033333 2459944.5416762154  12.595    10.0   2.595  Al_+1      171 ...   0.0   0.0 -173.33 -22711884000.0 144098944000.0  88279990.0\n",
      "2459944.5510996296 2459944.5511724884  12.591    10.0   2.591  Al_+1      195 ...   0.0   0.0 -173.33 -22729508000.0 144096144000.0  88275190.0\n",
      "2459944.5551944096  2459944.555384051  32.771    30.0   2.771  Al_+1      304 ...   0.0   0.0 -173.33 -22747128000.0 144093344000.0  88270380.0\n",
      "2459945.0418584724  2459945.041931343  12.595    10.0   2.595  Al_+1      171 ...   0.0   0.0 -173.35 -23979830000.0 143891728000.0  87912020.0\n",
      "2459945.0459949537 2459945.0467044096 122.594   120.0   2.594  Al_+1      284 ...   0.0   0.0 -173.35 -23997426000.0 143888768000.0  87906600.0\n",
      " 2459945.051343287  2459945.051416204  12.597    10.0   2.597  Al_+1      195 ...   0.0   0.0 -173.36 -23997426000.0 143888768000.0  87906600.0\n",
      "2459945.0554369907 2459945.0556337037  33.992    30.0   3.992  Al_+1      304 ...   0.0   0.0 -173.36 -24015024000.0 143885808000.0  87901160.0\n",
      "Length = 91883 rows\n"
     ]
    }
   ],
   "source": [
    "EITmetadata = Table.read(\"./EIT/EITresults/EIT_headerMetadata.txt\",format=\"ascii.basic\")\n",
    "print(np.shape(EITmetadata))\n",
    "print(EITmetadata)\n",
    "print(EITmetadata.colnames)\n",
    "\n",
    "EITmetadata = EITmetadata[np.argsort(EITmetadata['DATE-BEG'])]\n",
    "\n",
    "print(EITmetadata)"
   ]
  },
  {
   "cell_type": "code",
   "execution_count": 49,
   "metadata": {},
   "outputs": [
    {
     "name": "stdout",
     "output_type": "stream",
     "text": [
      "(2467, 3)\n"
     ]
    }
   ],
   "source": [
    "darkImgData =np.loadtxt(\"./EIT/darkImgFluxes_nobakeout.txt\")\n",
    "print(np.shape(darkImgData))\n",
    "\n",
    "results = np.genfromtxt(\"./EIT/EITresults/EIT_LC.txt\")\n",
    "results_revisedBakeout = copy.deepcopy(results)\n",
    "\n",
    "for y in range(2018,2023):\n",
    "    results_yr = np.genfromtxt(\"./EIT/EITresults/EIT_LC_{0}_revisedBakeout.txt\".format(y))\n",
    "    first_row_yr = (results_revisedBakeout[:,0] == results_yr[0,0])\n",
    "    first_idx_yr = np.arange(len(results_revisedBakeout))[first_row_yr][0]\n",
    "\n",
    "    results_revisedBakeout[first_idx_yr:(first_idx_yr+len(results_yr))] = results_yr\n",
    "\n",
    "\n",
    "pinholes = np.genfromtxt(\"./EIT/EITresults/EIT_pinholes.txt\")\n",
    "cameraErrors = np.genfromtxt(\"./EIT/EITresults/EIT_cameraErrors.txt\")\n",
    "\n",
    "results_revisedBakeout = results_revisedBakeout[np.argsort(results_revisedBakeout[:,0])]\n",
    "pinholes = pinholes[np.argsort(pinholes[:,0])]\n",
    "cameraErrors = cameraErrors[np.argsort(cameraErrors[:,0])]"
   ]
  },
  {
   "cell_type": "code",
   "execution_count": 58,
   "metadata": {},
   "outputs": [
    {
     "name": "stdout",
     "output_type": "stream",
     "text": [
      "(91883, 5)\n",
      "(91883, 3)\n",
      "(91883, 3)\n",
      "(91883,)\n",
      "(0, 5)\n",
      "(0, 5)\n",
      "(0, 5)\n"
     ]
    }
   ],
   "source": [
    "print(np.shape(results_revisedBakeout))\n",
    "print(np.shape(pinholes))\n",
    "print(np.shape(cameraErrors))\n",
    "print(np.shape(EITmetadata))\n",
    "\n",
    "mismatch = (results_revisedBakeout[:,0] != pinholes[:,0])\n",
    "print(np.shape(results_revisedBakeout[mismatch]))\n",
    "\n",
    "mismatch = (results_revisedBakeout[:,0] != cameraErrors[:,0])\n",
    "print(np.shape(results_revisedBakeout[mismatch]))\n",
    "\n",
    "mismatch = ~np.isclose(results_revisedBakeout[:,0],EITmetadata['DATE-BEG'],rtol=0.01) \n",
    "print(np.shape(results_revisedBakeout[mismatch]))\n"
   ]
  },
  {
   "cell_type": "code",
   "execution_count": 66,
   "metadata": {},
   "outputs": [
    {
     "name": "stdout",
     "output_type": "stream",
     "text": [
      "(85797,)\n"
     ]
    }
   ],
   "source": [
    "Al_filterMask = (EITmetadata['FILTER'] == 'Al_+1')\n",
    "print(np.shape(EITmetadata[filterClearMask]))\n",
    "\n",
    "#get rid of spurious detections of pinholes where there can't have been any because the filter was in place\n",
    "pinholes[:,2][Al_filterMask] = 0"
   ]
  },
  {
   "cell_type": "code",
   "execution_count": 67,
   "metadata": {},
   "outputs": [
    {
     "name": "stdout",
     "output_type": "stream",
     "text": [
      "(91883, 7)\n"
     ]
    }
   ],
   "source": [
    "results_toSave = np.vstack((results_revisedBakeout.T, pinholes[:,2].T, cameraErrors[:,2].T)).T\n",
    "print(np.shape(results_toSave))\n",
    "\n",
    "np.savetxt(\"./EIT/EITresults/EIT_LC_withflags.txt\",results_toSave,fmt=\"%f %f %d %f %f %d %d\",header=\"t_obs[JD] solar_distance[m] wavelength[angstrom] unnorm_flux[DN/s] unnorm_flux_unc[DN/s] pinholes[1ifYes] cameraError[1ifYes]\")\n"
   ]
  },
  {
   "cell_type": "code",
   "execution_count": null,
   "metadata": {},
   "outputs": [],
   "source": []
  }
 ],
 "metadata": {
  "kernelspec": {
   "display_name": "Python 2",
   "language": "python",
   "name": "python2"
  },
  "language_info": {
   "codemirror_mode": {
    "name": "ipython",
    "version": 3
   },
   "file_extension": ".py",
   "mimetype": "text/x-python",
   "name": "python",
   "nbconvert_exporter": "python",
   "pygments_lexer": "ipython3",
   "version": "3.10.13"
  }
 },
 "nbformat": 4,
 "nbformat_minor": 4
}
