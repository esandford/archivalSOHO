{
 "cells": [
  {
   "cell_type": "code",
   "execution_count": 1,
   "metadata": {},
   "outputs": [],
   "source": [
    "# Code to get all the revised LC points (from rerunning EITfluxsum.py for subsets of the years 1996-2022) into the same results file\n",
    "# and all the metadata files into the same metadata file\n",
    "\n",
    "# also revise the EIT pinhole flag to only apply to images which have filter = 'Clear'"
   ]
  },
  {
   "cell_type": "code",
   "execution_count": 1,
   "metadata": {
    "collapsed": false,
    "jupyter": {
     "outputs_hidden": false
    }
   },
   "outputs": [],
   "source": [
    "import EITfunc.EITlook as eit\n",
    "\n",
    "import numpy as np\n",
    "import matplotlib.pyplot as plt\n",
    "import matplotlib.colors as clrs\n",
    "import matplotlib.cm as cmx\n",
    "import matplotlib.colorbar as cb\n",
    "import matplotlib.patches as patches\n",
    "from matplotlib.collections import PatchCollection\n",
    "from mpl_toolkits.axes_grid1 import make_axes_locatable\n",
    "from matplotlib import gridspec\n",
    "\n",
    "import matplotlib.style\n",
    "import matplotlib as mpl\n",
    "mpl.style.use('classic')\n",
    "\n",
    "import os\n",
    "\n",
    "from astropy import units as u\n",
    "from astropy.constants import G\n",
    "from astropy.io import ascii, fits\n",
    "from astropy.table import Table, vstack\n",
    "from astropy.timeseries import LombScargle\n",
    "import astropy.time\n",
    "from astropy.coordinates import HeliocentricMeanEcliptic, SkyCoord\n",
    "\n",
    "import sunpy.coordinates\n",
    "\n",
    "import scipy.optimize as sciop\n",
    "from scipy.stats import mode, binned_statistic\n",
    "\n",
    "import time\n",
    "import copy\n",
    "\n",
    "%matplotlib inline\n",
    "%load_ext autoreload\n",
    "%autoreload 2"
   ]
  },
  {
   "cell_type": "code",
   "execution_count": 2,
   "metadata": {},
   "outputs": [
    {
     "name": "stdout",
     "output_type": "stream",
     "text": [
      "EIT_LC_1996_1997.txt    EIT_LC_2004_2025.txt    \u001b[31mEITdark.py\u001b[m\u001b[m*\n",
      "EIT_LC_1997_2001.txt    EIT_LC_withflags.txt    \u001b[31mEITfluxsum.py\u001b[m\u001b[m*\n",
      "EIT_LC_2001_2004.txt    EIT_headerMetadata.txt  EITmetadata.py\n"
     ]
    }
   ],
   "source": [
    "ls ./EIT/EITresults"
   ]
  },
  {
   "cell_type": "code",
   "execution_count": 3,
   "metadata": {},
   "outputs": [],
   "source": [
    "start_years = np.array((1996,1997,2001,2004))\n",
    "end_years = np.array((1997,2001,2004,2025))"
   ]
  },
  {
   "cell_type": "code",
   "execution_count": 4,
   "metadata": {},
   "outputs": [],
   "source": [
    "LCheader = 't_obs[JD] solar_distance[m] max_annular_pixel_radius[pix] wavelength[angstrom] unnorm_flux[DN/s] unnorm_flux_unc[DN/s] pinholes[1ifYes] cameraError[1ifYes]'\n",
    "metadataHeader = 'DATE-BEG DATE-AVG XPOSURE CMDXPOS SHUTCLS FILTER WAVELNTH OBJECT SCI_OBJ OBS_PROG CMP_NO UCD EXPMODE LYNESYNC ROUTPORT NLEBPROC LEBPROC1 LEBPROC2 LEBPROC3 WCSNAME CTYPE1 CTYPE2 CUNIT1 CUNIT2 PC1_1 PC1_2 PC2_1 PC2_2 CDELT1 CDELT2 CRVAL1 CRVAL2 CRPIX1 CRPIX2 CROTA CFTEMP CCDTEMP SOLAR_B0 RSUN_ARC RSUN_OBS RSUN_REF CAR_ROT DSUN_OBS SC_X0 SC_Y0 SC_ROLL HAEX_OBS HAEY_OBS HAEZ_OBS'"
   ]
  },
  {
   "cell_type": "code",
   "execution_count": 5,
   "metadata": {},
   "outputs": [
    {
     "name": "stdout",
     "output_type": "stream",
     "text": [
      "(2877, 8)\n",
      "(16142, 8)\n",
      "(14496, 8)\n",
      "(61285, 8)\n",
      "(94800, 8)\n"
     ]
    }
   ],
   "source": [
    "allLC = np.zeros((1,8))\n",
    "#allmetadata = Table.read(\"./EIT/EITresults/EIT_headerMetadata_1996_1999.txt\",format='ascii')\n",
    "#print(len(allmetadata))\n",
    "\n",
    "for i in range(len(start_years)):\n",
    "    start_yr = start_years[i]\n",
    "    end_yr = end_years[i]\n",
    "\n",
    "    LCdata = np.genfromtxt(\"./EIT/EITresults/EIT_LC_{0}_{1}.txt\".format(start_yr,end_yr))\n",
    "    print(np.shape(LCdata))\n",
    "    allLC = np.vstack((allLC, LCdata))\n",
    "    '''\n",
    "    if i > 0:\n",
    "        metadata = Table.read(\"./EIT/EITresults/EIT_headerMetadata_{0}_{1}.txt\".format(start_yr,end_yr),format='ascii')\n",
    "        print(len(metadata))\n",
    "        metadata['CMP_NO'] = metadata['CMP_NO'].astype(str)\n",
    "        allmetadata = vstack((allmetadata,metadata))\n",
    "    '''\n",
    "allLC = allLC[1:]\n",
    "print(np.shape(allLC))\n",
    "#print(len(allmetadata))\n",
    "\n",
    "# sort by observation time\n",
    "t_idxs = np.argsort(allLC[:,0])\n",
    "allLC = allLC[t_idxs]\n",
    "\n",
    "#t_idxs_metadata = np.argsort(allmetadata['DATE-BEG'])\n",
    "#allmetadata = allmetadata[t_idxs_metadata]\n",
    "#print(allmetadata)"
   ]
  },
  {
   "cell_type": "code",
   "execution_count": 6,
   "metadata": {},
   "outputs": [],
   "source": [
    "allmetadata = Table.read(\"./EIT/EITresults/EIT_headerMetadata.txt\",format='ascii')"
   ]
  },
  {
   "cell_type": "code",
   "execution_count": 7,
   "metadata": {},
   "outputs": [
    {
     "name": "stdout",
     "output_type": "stream",
     "text": [
      "True\n",
      "[2450098.509462 2450098.520198 2450098.53664  ... 2460412.545185\n",
      " 2460412.550544 2460412.554643]\n",
      "     DATE-BEG     \n",
      "------------------\n",
      " 2450098.509462373\n",
      "2450098.5201983913\n",
      "2450098.5366403703\n",
      "  2450099.07985044\n",
      "2450102.2426729975\n",
      " 2450102.278504838\n",
      " 2450102.401938831\n",
      "2450103.1874925694\n",
      " 2450103.212478449\n",
      "2450103.2389932405\n",
      "               ...\n",
      " 2460411.050899074\n",
      "2460411.5414336575\n",
      "2460412.0411972683\n",
      "2460412.0453280094\n",
      "2460412.0506855557\n",
      "2460412.0547792595\n",
      " 2460412.541053646\n",
      "2460412.5451847916\n",
      "  2460412.55054353\n",
      "2460412.5546430093\n",
      "Length = 94800 rows\n"
     ]
    }
   ],
   "source": [
    "print(np.allclose(allLC[:,0], allmetadata['DATE-BEG'], 1.e-12))\n",
    "print(allLC[:,0])\n",
    "print(allmetadata['DATE-BEG'])"
   ]
  },
  {
   "cell_type": "code",
   "execution_count": 8,
   "metadata": {},
   "outputs": [
    {
     "name": "stdout",
     "output_type": "stream",
     "text": [
      "FILTER\n",
      "------\n",
      " Al_+1\n",
      "Al_sup\n",
      " Clear\n",
      "10788\n",
      "1495\n"
     ]
    }
   ],
   "source": [
    "print(np.unique(allmetadata['FILTER']))\n",
    "\n",
    "#print(len(allmetadata[allmetadata['FILTER'] == 'Al_+1']))\n",
    "#print(len(allmetadata[allmetadata['FILTER'] == 'Al_sup']))\n",
    "#print(len(allmetadata[allmetadata['FILTER'] == 'Clear']))\n",
    "\n",
    "\n",
    "# number of pinholes\n",
    "#print(len(allLC[allLC[:,6] == 0]))\n",
    "print(len(allLC[allLC[:,6] == 1]))\n",
    "\n",
    "Al_filterMask = (allmetadata['FILTER'] != 'Clear')\n",
    "#print(len(allmetadata[~Al_filterMask]))\n",
    "\n",
    "\n",
    "#get rid of spurious detections of pinholes where there can't have been any because the filter was in place\n",
    "allLC[:,6][Al_filterMask] = 0\n",
    "\n",
    "print(len(allLC[allLC[:,6] == 1]))\n"
   ]
  },
  {
   "cell_type": "code",
   "execution_count": 9,
   "metadata": {},
   "outputs": [
    {
     "name": "stdout",
     "output_type": "stream",
     "text": [
      "6083\n",
      "1495\n"
     ]
    }
   ],
   "source": [
    "#pinholes = allLC[:,5]\n",
    "\n",
    "Al_filterMask = (allmetadata['FILTER'] == 'Al_+1') | (allmetadata['FILTER'] == 'Al_sup')\n",
    "print(len(allmetadata[~Al_filterMask]))\n",
    "\n",
    "#get rid of spurious detections of pinholes where there can't have been any because the filter was in place\n",
    "allLC[:,6][Al_filterMask] = 0\n",
    "\n",
    "print(len(allLC[allLC[:,6] == 1]))\n"
   ]
  },
  {
   "cell_type": "code",
   "execution_count": 10,
   "metadata": {},
   "outputs": [],
   "source": [
    "np.savetxt(\"./EIT/EITresults/EIT_LC_withflags.txt\", allLC, fmt=\"%f\", header=LCheader)\n",
    "ascii.write(allmetadata, \"./EIT/EITresults/EIT_headerMetadata.txt\",overwrite=True)"
   ]
  },
  {
   "cell_type": "code",
   "execution_count": null,
   "metadata": {},
   "outputs": [],
   "source": []
  },
  {
   "cell_type": "code",
   "execution_count": null,
   "metadata": {},
   "outputs": [],
   "source": []
  }
 ],
 "metadata": {
  "kernelspec": {
   "display_name": "Python 3 (ipykernel)",
   "language": "python",
   "name": "python3"
  },
  "language_info": {
   "codemirror_mode": {
    "name": "ipython",
    "version": 3
   },
   "file_extension": ".py",
   "mimetype": "text/x-python",
   "name": "python",
   "nbconvert_exporter": "python",
   "pygments_lexer": "ipython3",
   "version": "3.12.2"
  }
 },
 "nbformat": 4,
 "nbformat_minor": 4
}
