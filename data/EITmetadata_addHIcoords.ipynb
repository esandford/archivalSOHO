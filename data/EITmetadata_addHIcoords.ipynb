{
 "cells": [
  {
   "cell_type": "code",
   "execution_count": 1,
   "id": "ead93ce8-1c23-495a-b342-d14adfd79963",
   "metadata": {},
   "outputs": [],
   "source": [
    "import EITfunc.EITlook as eit\n",
    "\n",
    "import numpy as np\n",
    "import matplotlib.pyplot as plt\n",
    "import matplotlib.colors as clrs\n",
    "import matplotlib.cm as cmx\n",
    "import matplotlib.colorbar as cb\n",
    "import matplotlib.patches as patches\n",
    "from matplotlib.collections import PatchCollection\n",
    "from mpl_toolkits.axes_grid1 import make_axes_locatable\n",
    "from matplotlib import gridspec\n",
    "\n",
    "import matplotlib.style\n",
    "import matplotlib as mpl\n",
    "mpl.style.use('classic')\n",
    "\n",
    "import os\n",
    "import copy\n",
    "import emcee\n",
    "import corner\n",
    "\n",
    "from astropy import units as u\n",
    "from astropy.constants import G\n",
    "from astropy.io import ascii, fits\n",
    "from astropy.table import Table\n",
    "from astropy.timeseries import LombScargle\n",
    "import astropy.time\n",
    "\n",
    "import scipy.optimize as sciop\n",
    "from scipy.stats import mode, binned_statistic\n",
    "from scipy.signal import medfilt\n",
    "\n",
    "from astropy.coordinates import HeliocentricMeanEcliptic, HeliocentricTrueEcliptic, SkyCoord\n",
    "\n",
    "from astropy.coordinates import solar_system_ephemeris, EarthLocation\n",
    "from astropy.coordinates import get_body_barycentric, get_body\n",
    "\n",
    "import sunpy.coordinates\n",
    "\n",
    "\n",
    "%matplotlib inline\n",
    "%load_ext autoreload\n",
    "%autoreload 2"
   ]
  },
  {
   "cell_type": "code",
   "execution_count": 2,
   "id": "79d3ca76-6559-4cbc-ba83-09da47ee5795",
   "metadata": {},
   "outputs": [
    {
     "name": "stdout",
     "output_type": "stream",
     "text": [
      "(94800,)\n",
      "['DATE-BEG', 'DATE-AVG', 'XPOSURE', 'CMDXPOS', 'SHUTCLS', 'FILTER', 'WAVELNTH', 'OBJECT', 'SCI_OBJ', 'OBS_PROG', 'CMP_NO', 'UCD', 'EXPMODE', 'LYNESYNC', 'ROUTPORT', 'NLEBPROC', 'LEBPROC1', 'LEBPROC2', 'LEBPROC3', 'WCSNAME', 'CTYPE1', 'CTYPE2', 'CUNIT1', 'CUNIT2', 'PC1_1', 'PC1_2', 'PC2_1', 'PC2_2', 'CDELT1', 'CDELT2', 'CRVAL1', 'CRVAL2', 'CRPIX1', 'CRPIX2', 'CROTA', 'CFTEMP', 'CCDTEMP', 'SOLAR_B0', 'RSUN_ARC', 'RSUN_OBS', 'RSUN_REF', 'CAR_ROT', 'DSUN_OBS', 'SC_X0', 'SC_Y0', 'SC_ROLL', 'HAEX_OBS', 'HAEY_OBS', 'HAEZ_OBS']\n"
     ]
    }
   ],
   "source": [
    "EITmetadata = Table.read(\"./EIT/EITresults/EIT_headerMetadata.txt\",format=\"ascii\")\n",
    "print(np.shape(EITmetadata))\n",
    "print(EITmetadata.colnames)\n"
   ]
  },
  {
   "cell_type": "code",
   "execution_count": 3,
   "id": "0fd70d94-2c6a-4638-890b-2dd1573e880f",
   "metadata": {},
   "outputs": [
    {
     "name": "stdout",
     "output_type": "stream",
     "text": [
      "<SkyCoord (HeliocentricMeanEcliptic: equinox=[2450098.51294675 2450098.52067839 2450098.53667712 ... 2460412.54589426\n",
      " 2460412.55061641 2460412.55483164], obstime=[2450098.51294675 2450098.52067839 2450098.53667712 ... 2460412.54589426\n",
      " 2460412.55061641 2460412.55483164]): (x, y, z) in m\n",
      "    [(-6.49088080e+10,  1.30562576e+11, -77407740.),\n",
      "     (-6.49088080e+10,  1.30562576e+11, -77407740.),\n",
      "     (-6.49088080e+10,  1.30562576e+11, -77407740.), ...,\n",
      "     (-1.37112496e+11, -5.68140720e+10, -72684190.),\n",
      "     (-1.37112496e+11, -5.68140720e+10, -72684190.),\n",
      "     (-1.37106032e+11, -5.68305800e+10, -72662580.)]>\n",
      "<SkyCoord (HeliocentricInertial: obstime=[2450098.51294675 2450098.52067839 2450098.53667712 ... 2460412.54589426\n",
      " 2460412.55061641 2460412.55483164]): (lon, lat, distance) in (deg, deg, m)\n",
      "    [( 40.49344878, -4.75368579, 1.45807221e+11),\n",
      "     ( 40.49344848, -4.75368577, 1.45807221e+11),\n",
      "     ( 40.49344787, -4.75368571, 1.45807221e+11), ...,\n",
      "     (126.62436396, -5.85772215, 1.48417252e+11),\n",
      "     (126.62436378, -5.85772216, 1.48417252e+11),\n",
      "     (126.63122198, -5.85719813, 1.48417600e+11)]>\n"
     ]
    }
   ],
   "source": [
    "HAEcoords = SkyCoord(frame='heliocentricmeanecliptic',\n",
    "                     x=EITmetadata['HAEX_OBS']*u.m, \n",
    "                     y=EITmetadata['HAEY_OBS']*u.m,\n",
    "                     z=EITmetadata['HAEZ_OBS']*u.m, \n",
    "                     representation_type='cartesian',\n",
    "                     obstime=astropy.time.Time(EITmetadata['DATE-AVG'],format='jd'),\n",
    "                     equinox=astropy.time.Time(EITmetadata['DATE-AVG'],format='jd'))\n",
    "                     #equinox='J2000')\n",
    "print(HAEcoords)\n",
    "HIcoords = HAEcoords.transform_to(sunpy.coordinates.frames.HeliocentricInertial())\n",
    "print(HIcoords)\n",
    "#HTEcoords = HAEcoords.transform_to(HeliocentricTrueEcliptic(equinox=astropy.time.Time(EITmetadata['DATE-AVG'],format='jd'))).cartesian\n",
    "#print(HTEcoords)"
   ]
  },
  {
   "cell_type": "code",
   "execution_count": 4,
   "id": "48151fb3-1d39-4472-a349-eefc1eff48fc",
   "metadata": {},
   "outputs": [
    {
     "name": "stdout",
     "output_type": "stream",
     "text": [
      "[-0.0829675 rad -0.0829675 rad -0.0829675 rad ... -0.102237 rad\n",
      " -0.102237 rad -0.102227 rad]\n",
      "[-4d45m13.26884989s -4d45m13.26875614s -4d45m13.26856214s ...\n",
      " -5d51m27.79973014s -5d51m27.79977635s -5d51m25.91327553s]\n",
      "[-4.75368579 -4.75368577 -4.75368571 ... -5.85772215 -5.85772216\n",
      " -5.85719813]\n",
      "[1.45807221e+11 1.45807221e+11 1.45807221e+11 ... 1.48417252e+11\n",
      " 1.48417252e+11 1.48417600e+11] m\n"
     ]
    }
   ],
   "source": [
    "print(HIcoords.lat.to(u.rad))\n",
    "print(HIcoords.lat.to(u.deg))\n",
    "print(HIcoords.lat.to(u.rad).value*(180./np.pi))\n",
    "print(HIcoords.distance)"
   ]
  },
  {
   "cell_type": "code",
   "execution_count": 5,
   "id": "6b0cb847-fb1b-4a8f-a973-7213954aa79c",
   "metadata": {},
   "outputs": [
    {
     "data": {
      "image/png": "[encoded data removed]",
      "text/plain": [
       "<Figure size 640x640 with 1 Axes>"
      ]
     },
     "metadata": {},
     "output_type": "display_data"
    }
   ],
   "source": [
    "fig, ax = plt.subplots(1,1,figsize=(8,8))\n",
    "ax.plot(EITmetadata['DSUN_OBS'], HIcoords.distance.value, 'k.')\n",
    "plt.show()"
   ]
  },
  {
   "cell_type": "code",
   "execution_count": 6,
   "id": "280a91af-fcda-474b-9b6c-7be85aefab7c",
   "metadata": {},
   "outputs": [],
   "source": [
    "EITmetadata['HI-LAT-DEG'] = HIcoords.lat.to(u.rad).value*(180./np.pi)\n",
    "EITmetadata['HI-LON-DEG'] = HIcoords.lon.to(u.rad).value*(180./np.pi)\n"
   ]
  },
  {
   "cell_type": "code",
   "execution_count": 7,
   "id": "a53276f6-0ae9-4f15-90c7-a31a470389bc",
   "metadata": {},
   "outputs": [],
   "source": [
    "ascii.write(EITmetadata, \"./EIT/EITresults/EIT_headerMetadata.txt\", overwrite=True) "
   ]
  },
  {
   "cell_type": "code",
   "execution_count": null,
   "id": "268d40b0-bab1-49f7-a3f4-3c51c02c6ea3",
   "metadata": {},
   "outputs": [],
   "source": []
  }
 ],
 "metadata": {
  "kernelspec": {
   "display_name": "Python 3 (ipykernel)",
   "language": "python",
   "name": "python3"
  },
  "language_info": {
   "codemirror_mode": {
    "name": "ipython",
    "version": 3
   },
   "file_extension": ".py",
   "mimetype": "text/x-python",
   "name": "python",
   "nbconvert_exporter": "python",
   "pygments_lexer": "ipython3",
   "version": "3.12.2"
  }
 },
 "nbformat": 4,
 "nbformat_minor": 5
}
