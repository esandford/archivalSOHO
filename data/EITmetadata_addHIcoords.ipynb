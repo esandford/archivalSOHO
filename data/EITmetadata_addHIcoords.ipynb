{
 "cells": [
  {
   "cell_type": "code",
   "execution_count": 1,
   "id": "ead93ce8-1c23-495a-b342-d14adfd79963",
   "metadata": {},
   "outputs": [],
   "source": [
    "import EITfunc.EITlook as eit\n",
    "\n",
    "import numpy as np\n",
    "import matplotlib.pyplot as plt\n",
    "import matplotlib.colors as clrs\n",
    "import matplotlib.cm as cmx\n",
    "import matplotlib.colorbar as cb\n",
    "import matplotlib.patches as patches\n",
    "from matplotlib.collections import PatchCollection\n",
    "from mpl_toolkits.axes_grid1 import make_axes_locatable\n",
    "from matplotlib import gridspec\n",
    "\n",
    "import matplotlib.style\n",
    "import matplotlib as mpl\n",
    "mpl.style.use('classic')\n",
    "\n",
    "import os\n",
    "import copy\n",
    "import emcee\n",
    "import corner\n",
    "\n",
    "from astropy import units as u\n",
    "from astropy.constants import G\n",
    "from astropy.io import ascii, fits\n",
    "from astropy.table import Table\n",
    "from astropy.timeseries import LombScargle\n",
    "import astropy.time\n",
    "\n",
    "import scipy.optimize as sciop\n",
    "from scipy.stats import mode, binned_statistic\n",
    "from scipy.signal import medfilt\n",
    "\n",
    "from astropy.coordinates import HeliocentricMeanEcliptic, HeliocentricTrueEcliptic, SkyCoord\n",
    "\n",
    "from astropy.coordinates import solar_system_ephemeris, EarthLocation\n",
    "from astropy.coordinates import get_body_barycentric, get_body\n",
    "\n",
    "import sunpy.coordinates\n",
    "\n",
    "\n",
    "%matplotlib inline\n",
    "%load_ext autoreload\n",
    "%autoreload 2"
   ]
  },
  {
   "cell_type": "code",
   "execution_count": 4,
   "id": "79d3ca76-6559-4cbc-ba83-09da47ee5795",
   "metadata": {},
   "outputs": [
    {
     "name": "stdout",
     "output_type": "stream",
     "text": [
      "(91883,)\n",
      "['DATE-BEG', 'DATE-AVG', 'XPOSURE', 'CMDXPOS', 'SHUTCLS', 'FILTER', 'WAVELNTH', 'OBJECT', 'SCI_OBJ', 'OBS_PROG', 'CMP_NO', 'UCD', 'EXPMODE', 'LYNESYNC', 'ROUTPORT', 'NLEBPROC', 'LEBPROC1', 'LEBPROC2', 'LEBPROC3', 'WCSNAME', 'CTYPE1', 'CTYPE2', 'CUNIT1', 'CUNIT2', 'PC1_1', 'PC1_2', 'PC2_1', 'PC2_2', 'CDELT1', 'CDELT2', 'CRVAL1', 'CRVAL2', 'CRPIX1', 'CRPIX2', 'CROTA', 'CFTEMP', 'CCDTEMP', 'SOLAR_B0', 'RSUN_ARC', 'RSUN_OBS', 'RSUN_REF', 'CAR_ROT', 'DSUN_OBS', 'SC_X0', 'SC_Y0', 'SC_ROLL', 'HAEX_OBS', 'HAEY_OBS', 'HAEZ_OBS']\n"
     ]
    }
   ],
   "source": [
    "EITmetadata = Table.read(\"./EIT/EITresults/EIT_headerMetadata.txt\",format=\"ascii\")\n",
    "print(np.shape(EITmetadata))\n",
    "print(EITmetadata.colnames)\n"
   ]
  },
  {
   "cell_type": "code",
   "execution_count": 7,
   "id": "0fd70d94-2c6a-4638-890b-2dd1573e880f",
   "metadata": {},
   "outputs": [
    {
     "name": "stdout",
     "output_type": "stream",
     "text": [
      "<SkyCoord (HeliocentricMeanEcliptic: equinox=[2450098.53667712 2450098.51294675 2450099.07992046 ... 2459945.04670441\n",
      " 2459944.55117249 2459944.55538405], obstime=[2450098.53667712 2450098.51294675 2450099.07992046 ... 2459945.04670441\n",
      " 2459944.55117249 2459944.55538405]): (x, y, z) in m\n",
      "    [(-6.4908808e+10, 1.30562576e+11, -77407740.),\n",
      "     (-6.4908808e+10, 1.30562576e+11, -77407740.),\n",
      "     (-6.4908808e+10, 1.30562576e+11, -77407740.), ...,\n",
      "     (-2.3997426e+10, 1.43888768e+11,  87906600.),\n",
      "     (-2.2729508e+10, 1.44096144e+11,  88275190.),\n",
      "     (-2.2747128e+10, 1.44093344e+11,  88270380.)]>\n",
      "<SkyCoord (HeliocentricInertial: obstime=[2450098.53667712 2450098.51294675 2450099.07992046 ... 2459945.04670441\n",
      " 2459944.55117249 2459944.55538405]): (lon, lat, distance) in (deg, deg, m)\n",
      "    [(40.49344787, -4.75368571, 1.45807221e+11),\n",
      "     (40.49344878, -4.75368579, 1.45807221e+11),\n",
      "     (40.4934271 , -4.75368388, 1.45807221e+11), ...,\n",
      "     (23.21800666, -2.83997871, 1.45876186e+11),\n",
      "     (22.71624217, -2.78119613, 1.45877815e+11),\n",
      "     (22.72320971, -2.7820138 , 1.45877796e+11)]>\n"
     ]
    }
   ],
   "source": [
    "HAEcoords = SkyCoord(frame='heliocentricmeanecliptic',\n",
    "                     x=EITmetadata['HAEX_OBS']*u.m, \n",
    "                     y=EITmetadata['HAEY_OBS']*u.m,\n",
    "                     z=EITmetadata['HAEZ_OBS']*u.m, \n",
    "                     representation_type='cartesian',\n",
    "                     obstime=astropy.time.Time(EITmetadata['DATE-AVG'],format='jd'),\n",
    "                     equinox=astropy.time.Time(EITmetadata['DATE-AVG'],format='jd'))\n",
    "                     #equinox='J2000')\n",
    "print(HAEcoords)\n",
    "HIcoords = HAEcoords.transform_to(sunpy.coordinates.frames.HeliocentricInertial())\n",
    "print(HIcoords)\n",
    "#HTEcoords = HAEcoords.transform_to(HeliocentricTrueEcliptic(equinox=astropy.time.Time(EITmetadata['DATE-AVG'],format='jd'))).cartesian\n",
    "#print(HTEcoords)"
   ]
  },
  {
   "cell_type": "code",
   "execution_count": 18,
   "id": "48151fb3-1d39-4472-a349-eefc1eff48fc",
   "metadata": {},
   "outputs": [
    {
     "name": "stdout",
     "output_type": "stream",
     "text": [
      "[-0.0829675 rad -0.0829675 rad -0.0829674 rad ... -0.049567 rad\n",
      " -0.048541 rad -0.0485553 rad]\n",
      "[-4d45m13.26856214s -4d45m13.26884989s -4d45m13.26197476s ...\n",
      " -2d50m23.92336502s -2d46m52.30607686s -2d46m55.24966945s]\n",
      "[-4.75368571 -4.75368579 -4.75368388 ... -2.83997871 -2.78119613\n",
      " -2.7820138 ]\n",
      "[1.45807221e+11 1.45807221e+11 1.45807221e+11 ... 1.45876186e+11\n",
      " 1.45877815e+11 1.45877796e+11] m\n"
     ]
    }
   ],
   "source": [
    "print(HIcoords.lat.to(u.rad))\n",
    "print(HIcoords.lat.to(u.deg))\n",
    "print(HIcoords.lat.to(u.rad).value*(180./np.pi))\n",
    "print(HIcoords.distance)"
   ]
  },
  {
   "cell_type": "code",
   "execution_count": 19,
   "id": "6b0cb847-fb1b-4a8f-a973-7213954aa79c",
   "metadata": {},
   "outputs": [
    {
     "data": {
      "image/png": "[encoded data removed]",
      "text/plain": [
       "<Figure size 640x640 with 1 Axes>"
      ]
     },
     "metadata": {},
     "output_type": "display_data"
    }
   ],
   "source": [
    "fig, ax = plt.subplots(1,1,figsize=(8,8))\n",
    "ax.plot(EITmetadata['DSUN_OBS'], HIcoords.distance.value, 'k.')\n",
    "plt.show()"
   ]
  },
  {
   "cell_type": "code",
   "execution_count": 20,
   "id": "280a91af-fcda-474b-9b6c-7be85aefab7c",
   "metadata": {},
   "outputs": [],
   "source": [
    "EITmetadata['HI-LAT-DEG'] = HIcoords.lat.to(u.rad).value*(180./np.pi)\n",
    "EITmetadata['HI-LON-DEG'] = HIcoords.lon.to(u.rad).value*(180./np.pi)\n"
   ]
  },
  {
   "cell_type": "code",
   "execution_count": 21,
   "id": "a53276f6-0ae9-4f15-90c7-a31a470389bc",
   "metadata": {},
   "outputs": [],
   "source": [
    "ascii.write(EITmetadata, \"./EIT/EITresults/EIT_headerMetadata.txt\", overwrite=True) "
   ]
  },
  {
   "cell_type": "code",
   "execution_count": null,
   "id": "268d40b0-bab1-49f7-a3f4-3c51c02c6ea3",
   "metadata": {},
   "outputs": [],
   "source": []
  }
 ],
 "metadata": {
  "kernelspec": {
   "display_name": "Python 3 (ipykernel)",
   "language": "python",
   "name": "python3"
  },
  "language_info": {
   "codemirror_mode": {
    "name": "ipython",
    "version": 3
   },
   "file_extension": ".py",
   "mimetype": "text/x-python",
   "name": "python",
   "nbconvert_exporter": "python",
   "pygments_lexer": "ipython3",
   "version": "3.12.2"
  }
 },
 "nbformat": 4,
 "nbformat_minor": 5
}
