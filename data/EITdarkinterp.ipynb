{
 "cells": [
  {
   "cell_type": "code",
   "execution_count": 1,
   "metadata": {
    "collapsed": false,
    "jupyter": {
     "outputs_hidden": false
    }
   },
   "outputs": [],
   "source": [
    "import EITfunc.EITlook as eit\n",
    "\n",
    "import numpy as np\n",
    "import matplotlib.pyplot as plt\n",
    "import matplotlib.colors as clrs\n",
    "import matplotlib.cm as cmx\n",
    "import matplotlib.colorbar as cb\n",
    "import matplotlib.patches as patches\n",
    "from matplotlib.collections import PatchCollection\n",
    "from mpl_toolkits.axes_grid1 import make_axes_locatable\n",
    "from matplotlib import gridspec\n",
    "\n",
    "import matplotlib.style\n",
    "import matplotlib as mpl\n",
    "mpl.style.use('classic')\n",
    "\n",
    "import os\n",
    "\n",
    "from astropy import units as u\n",
    "from astropy.constants import G\n",
    "from astropy.io import ascii, fits\n",
    "from astropy.table import Table\n",
    "from astropy.timeseries import LombScargle\n",
    "import astropy.time\n",
    "\n",
    "import scipy.optimize as sciop\n",
    "from scipy.stats import mode, binned_statistic\n",
    "\n",
    "%matplotlib inline"
   ]
  },
  {
   "cell_type": "code",
   "execution_count": 2,
   "metadata": {},
   "outputs": [
    {
     "name": "stdout",
     "output_type": "stream",
     "text": [
      "2450083.5\n",
      "2455562.5\n"
     ]
    }
   ],
   "source": [
    "jan1_1996 = '1996-01-01T00:00:00.000Z'\n",
    "jan1_1996 = astropy.time.Time(jan1_1996).jd\n",
    "print(jan1_1996)\n",
    "\n",
    "jan1_2011 = '2011-01-01T00:00:00.000Z'\n",
    "jan1_2011 = astropy.time.Time(jan1_2011).jd\n",
    "print(jan1_2011)"
   ]
  },
  {
   "cell_type": "code",
   "execution_count": 3,
   "metadata": {},
   "outputs": [],
   "source": [
    "dayspermonth = [31,28,31,30,31,30,31,31,30,31,30,31,0]\n",
    "months = [r'Jan',r'Feb',r'Mar',r'Apr',r'May',r'June',r'July',r'Aug',r'Sept',r'Oct',r'Nov',r'Dec','']\n",
    "# all years divisible by 4 during SOHO are leap years, including 2000"
   ]
  },
  {
   "cell_type": "code",
   "execution_count": 11,
   "metadata": {},
   "outputs": [
    {
     "name": "stdout",
     "output_type": "stream",
     "text": [
      "01\n",
      "02\n",
      "03\n",
      "04\n",
      "05\n",
      "06\n",
      "07\n",
      "08\n",
      "09\n",
      "10\n",
      "11\n",
      "12\n"
     ]
    }
   ],
   "source": [
    "#for year in range(1996, 2010):\n",
    "for year in [1996]:\n",
    "    jan1_thisyear = '{0}-01-01T00:00:00.000Z'.format(year)\n",
    "    jan1_thisyear = astropy.time.Time(jan1_thisyear).jd\n",
    "    \n",
    "    dark_times = []\n",
    "    dark_medians = []\n",
    "    dark_means = []\n",
    "    dark_stdevs = []\n",
    "    \n",
    "    for m in range(1,13):\n",
    "        month = str(m).zfill(2)\n",
    "        days = sorted([int(f.path[-2:]) for f in os.scandir(\"./EIT/{0}/{1}/\".format(year,month)) if f.is_dir()])\n",
    "        print(month)\n",
    "        \n",
    "        for d in days:\n",
    "            day = str(d).zfill(2)\n",
    "            fitsFiles = os.scandir(\"./EIT/{0}/{1}/{2}/\".format(year,month,day))\n",
    "            \n",
    "            for f in fitsFiles:\n",
    "                hdul = fits.open(f.path)\n",
    "                header = hdul[0].header\n",
    "                data = hdul[0].data\n",
    "                \n",
    "                sci_obj_ = header['SCI_OBJ'].replace(\"/\",\" \").replace(\" \",\"_\").lower()\n",
    "\n",
    "                #exclude pathological case where solar distance is 0\n",
    "                if header['DSUN_OBS'] < 1.e11:\n",
    "                    continue\n",
    "                    \n",
    "                if \"dark_image\" in sci_obj_:\n",
    "                    #separate out what I assume are mis-labeled stray light images\n",
    "                    if np.median(data) < 1000.:\n",
    "                        #print(header['DATE-BEG'])\n",
    "                        #print(\"median {0}, mean {1}, stdev {2}\".format(np.median(data),np.mean(data),np.std(data)))\n",
    "                        \"\"\"\n",
    "                        fig, ax = plt.subplots(1,1,figsize=(8,6))\n",
    "                        ax.hist(np.ravel(data),color='k',alpha=0.5, range=(800,900),bins=100)\n",
    "                        ax.axvline(np.median(data),color='b')\n",
    "                        ax.axvline(np.mean(data),color='r')\n",
    "                        plt.show()\n",
    "                        \"\"\"\n",
    "                        dark_times.append(header['DATE-BEG']) \n",
    "                        dark_medians.append(np.median(data))\n",
    "                        dark_means.append(np.mean(data))\n",
    "                        dark_stdevs.append(np.std(data))\n",
    "    \n",
    "    dark_times = astropy.time.Time(dark_times, format='isot', scale='utc').jd\n",
    "    dark_medians = np.array(dark_medians)\n",
    "    dark_means = np.array(dark_means)\n",
    "    dark_stdevs = np.array(dark_stdevs)\n"
   ]
  },
  {
   "cell_type": "code",
   "execution_count": 12,
   "metadata": {},
   "outputs": [
    {
     "name": "stdout",
     "output_type": "stream",
     "text": [
      "(36,)\n",
      "(36,)\n",
      "(36,)\n",
      "(36,)\n"
     ]
    }
   ],
   "source": [
    "print(np.shape(dark_times))\n",
    "print(np.shape(dark_medians))\n",
    "print(np.shape(dark_means))\n",
    "print(np.shape(dark_stdevs))"
   ]
  },
  {
   "cell_type": "code",
   "execution_count": 18,
   "metadata": {},
   "outputs": [
    {
     "data": {
      "image/png": "[encoded data removed]",
      "text/plain": [
       "<Figure size 640x480 with 1 Axes>"
      ]
     },
     "metadata": {},
     "output_type": "display_data"
    }
   ],
   "source": [
    "fig, ax = plt.subplots(1,1,figsize=(8,6))\n",
    "ax.errorbar(dark_times, dark_means, yerr=dark_stdevs, color='k',capsize=0, marker='o', ls='None')\n",
    "plt.show()"
   ]
  },
  {
   "cell_type": "code",
   "execution_count": null,
   "metadata": {},
   "outputs": [],
   "source": []
  }
 ],
 "metadata": {
  "kernelspec": {
   "display_name": "Python 2",
   "language": "python",
   "name": "python2"
  },
  "language_info": {
   "codemirror_mode": {
    "name": "ipython",
    "version": 3
   },
   "file_extension": ".py",
   "mimetype": "text/x-python",
   "name": "python",
   "nbconvert_exporter": "python",
   "pygments_lexer": "ipython3",
   "version": "3.10.13"
  }
 },
 "nbformat": 4,
 "nbformat_minor": 4
}
